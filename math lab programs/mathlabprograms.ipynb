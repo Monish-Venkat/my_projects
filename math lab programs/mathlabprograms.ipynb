{
 "cells": [
  {
   "cell_type": "code",
   "execution_count": 4,
   "metadata": {},
   "outputs": [
    {
     "name": "stdout",
     "output_type": "stream",
     "text": [
      "[[1 1 1]\n",
      " [0 1 2]\n",
      " [1 5 3]]\n",
      "The Rank of the Matrix is : 3\n"
     ]
    }
   ],
   "source": [
    "# To find rank of the matrix\n",
    "import numpy as np\n",
    "mx = np.array([[1,1,1],[0,1,2],[1,5,3]])\n",
    "R = np.linalg.matrix_rank(mx)\n",
    "print(mx)\n",
    "print(\"The Rank of the Matrix is :\",R)"
   ]
  },
  {
   "cell_type": "code",
   "execution_count": 9,
   "metadata": {},
   "outputs": [
    {
     "name": "stdout",
     "output_type": "stream",
     "text": [
      "The rank of matrix A is:  2\n",
      "The system has non-trivial solution \n",
      "{(14*z/3, 8*z/3, z)}\n"
     ]
    }
   ],
   "source": [
    "# TO find solutions of homogeneous linear equations\n",
    "from sympy import *\n",
    "x,y,z =symbols('x,y,z')\n",
    "n = int(input(\"Enter the number of unknowns: \"))\n",
    "a11,a12,a13 = 1,3,-2\n",
    "a21,a22,a23 = 2,-1,4\n",
    "a31,a32,a33 = 1,-11,14\n",
    "A = Matrix(([a11,a12,a13],[a21,a22,a23],[a31,a32,a33]))\n",
    "ra = A.rank()\n",
    "print(\"The rank of matrix A is: \",ra)\n",
    "if(ra == n):\n",
    "    print(\"The system has only trivial solution\")\n",
    "else:\n",
    "    print(\"The system has non-trivial solution \")\n",
    "    print(linsolve([a11*x+a22*y+a13*z,a21*x+a22*y+a23*z+a31*x+a32*y+a33*z],[x,y,z]))"
   ]
  },
  {
   "cell_type": "code",
   "execution_count": null,
   "metadata": {},
   "outputs": [],
   "source": []
  },
  {
   "cell_type": "code",
   "execution_count": null,
   "metadata": {},
   "outputs": [],
   "source": []
  }
 ],
 "metadata": {
  "kernelspec": {
   "display_name": "Python 3",
   "language": "python",
   "name": "python3"
  },
  "language_info": {
   "codemirror_mode": {
    "name": "ipython",
    "version": 3
   },
   "file_extension": ".py",
   "mimetype": "text/x-python",
   "name": "python",
   "nbconvert_exporter": "python",
   "pygments_lexer": "ipython3",
   "version": "3.11.5"
  }
 },
 "nbformat": 4,
 "nbformat_minor": 2
}
